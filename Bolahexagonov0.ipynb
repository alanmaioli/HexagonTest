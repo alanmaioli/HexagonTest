{
 "cells": [
  {
   "cell_type": "code",
   "execution_count": null,
   "metadata": {},
   "outputs": [
    {
     "name": "stderr",
     "output_type": "stream",
     "text": [
      "<frozen importlib._bootstrap>:241: RuntimeWarning: Your system is avx2 capable but pygame was not built with support for it. The performance of some of your blits could be adversely affected. Consider enabling compile time detection with environment variables like PYGAME_DETECT_AVX2=1 if you are compiling without cross compilation.\n"
     ]
    },
    {
     "name": "stdout",
     "output_type": "stream",
     "text": [
      "pygame 2.6.0 (SDL 2.30.12, Python 3.11.9)\n",
      "Hello from the pygame community. https://www.pygame.org/contribute.html\n"
     ]
    }
   ],
   "source": [
    "import pygame\n",
    "import math\n",
    "\n",
    "def create_hexagon(surface, pos, size, angle):\n",
    "    points = []\n",
    "    for i in range(6):\n",
    "        theta = math.radians(60 * i) + angle\n",
    "        x = pos[0] + size * math.cos(theta)\n",
    "        y = pos[1] + size * math.sin(theta)\n",
    "        points.append((x, y))\n",
    "    pygame.draw.polygon(surface, (255, 255, 255), points, 2)\n",
    "    return points\n",
    "\n",
    "def reflect_vector(velocity, normal):\n",
    "    dot_product = velocity[0] * normal[0] + velocity[1] * normal[1]\n",
    "    reflected = [\n",
    "        velocity[0] - 2 * dot_product * normal[0],\n",
    "        velocity[1] - 2 * dot_product * normal[1]\n",
    "    ]\n",
    "    return reflected\n",
    "\n",
    "def closest_edge_and_normal(point, polygon):\n",
    "    closest_dist = float('inf')\n",
    "    closest_normal = None\n",
    "    closest_point = None\n",
    "    for i in range(len(polygon)):\n",
    "        p1 = polygon[i]\n",
    "        p2 = polygon[(i + 1) % len(polygon)]\n",
    "        edge = [p2[0] - p1[0], p2[1] - p1[1]]\n",
    "        edge_length = math.sqrt(edge[0]**2 + edge[1]**2)\n",
    "        edge_normal = [-edge[1] / edge_length, edge[0] / edge_length]\n",
    "        \n",
    "        proj_length = ((point[0] - p1[0]) * edge[0] + (point[1] - p1[1]) * edge[1]) / edge_length\n",
    "        proj_length = max(0, min(edge_length, proj_length))\n",
    "        closest = [p1[0] + proj_length * (edge[0] / edge_length),\n",
    "                   p1[1] + proj_length * (edge[1] / edge_length)]\n",
    "        \n",
    "        dist = math.sqrt((point[0] - closest[0])**2 + (point[1] - closest[1])**2)\n",
    "        if dist < closest_dist:\n",
    "            closest_dist = dist\n",
    "            closest_normal = edge_normal\n",
    "            closest_point = closest\n",
    "    \n",
    "    return closest_normal, closest_point, closest_dist\n",
    "\n",
    "def main():\n",
    "    pygame.init()\n",
    "    screen = pygame.display.set_mode((600, 600))\n",
    "    clock = pygame.time.Clock()\n",
    "    gravity = 0.5\n",
    "    ball_pos = [300, 200]\n",
    "    ball_vel = [0, 0]\n",
    "    ball_radius = 10\n",
    "    angle = 0\n",
    "    hex_size = 120\n",
    "    \n",
    "    running = True\n",
    "    while running:\n",
    "        screen.fill((0, 0, 0))\n",
    "        for event in pygame.event.get():\n",
    "            if event.type == pygame.QUIT:\n",
    "                running = False\n",
    "        \n",
    "        # Rotaciona o hexágono\n",
    "        angle += 0.02\n",
    "        hex_points = create_hexagon(screen, (300, 300), hex_size, angle)\n",
    "        \n",
    "        # Aplica a gravidade na bola\n",
    "        ball_vel[1] += gravity\n",
    "        ball_pos[0] += ball_vel[0]\n",
    "        ball_pos[1] += ball_vel[1]\n",
    "        \n",
    "        # Verifica colisão com as paredes do hexágono\n",
    "        normal, closest_point, dist = closest_edge_and_normal(ball_pos, hex_points)\n",
    "        if dist < ball_radius:\n",
    "            ball_vel = reflect_vector(ball_vel, normal)\n",
    "            overlap = ball_radius - dist\n",
    "            ball_pos[0] += normal[0] * overlap\n",
    "            ball_pos[1] += normal[1] * overlap\n",
    "        \n",
    "        # Desenha a bola\n",
    "        pygame.draw.circle(screen, (255, 0, 0), (int(ball_pos[0]), int(ball_pos[1])), ball_radius)\n",
    "        \n",
    "        pygame.display.flip()\n",
    "        clock.tick(60)\n",
    "\n",
    "    pygame.quit()\n",
    "\n",
    "if __name__ == \"__main__\":\n",
    "    main()\n"
   ]
  }
 ],
 "metadata": {
  "kernelspec": {
   "display_name": "usr",
   "language": "python",
   "name": "python3"
  },
  "language_info": {
   "codemirror_mode": {
    "name": "ipython",
    "version": 3
   },
   "file_extension": ".py",
   "mimetype": "text/x-python",
   "name": "python",
   "nbconvert_exporter": "python",
   "pygments_lexer": "ipython3",
   "version": "3.11.9"
  }
 },
 "nbformat": 4,
 "nbformat_minor": 2
}
